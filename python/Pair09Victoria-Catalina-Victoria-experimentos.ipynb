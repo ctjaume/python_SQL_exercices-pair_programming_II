{
 "cells": [
  {
   "cell_type": "code",
   "execution_count": 1,
   "metadata": {},
   "outputs": [
    {
     "ename": "SyntaxError",
     "evalue": "invalid syntax (2862597634.py, line 1)",
     "output_type": "error",
     "traceback": [
      "\u001b[0;36m  File \u001b[0;32m\"/tmp/ipykernel_8624/2862597634.py\"\u001b[0;36m, line \u001b[0;32m1\u001b[0m\n\u001b[0;31m    def proximavez\u001b[0m\n\u001b[0m                   ^\u001b[0m\n\u001b[0;31mSyntaxError\u001b[0m\u001b[0;31m:\u001b[0m invalid syntax\n"
     ]
    }
   ],
   "source": [
    "def proximavez(año):\n",
    "    \n",
    "    while #usar set para comparar que no hayas elementos repetidos \n",
    "    año += 1\n",
    "    return f'El proximo año en que se verán es {año} \n",
    "    "
   ]
  },
  {
   "cell_type": "code",
   "execution_count": 33,
   "metadata": {},
   "outputs": [],
   "source": [
    "# 3 - Vida util de un evaporador, conocemos la cantidad, el porcentaje que se pierde por día y\n",
    "# el umbral de porcentaje en el que deja de ser util \n",
    "\n",
    "def vidaevaporador (porcentajedia, umbral = 5):\n",
    "    capacidad = 100\n",
    "    vidautil = 0 \n",
    "    \n",
    "    while capacidad > umbral:\n",
    "        capacidad = porcentajeperdido(capacidad, porcentajedia)\n",
    "        vidautil += 1\n",
    "    return vidautil\n",
    "\n",
    "def porcentajeperdido(numero, porcentaje):\n",
    "    porcent = numero *((100-porcentaje)/100)\n",
    "    return porcent"
   ]
  },
  {
   "cell_type": "code",
   "execution_count": 35,
   "metadata": {},
   "outputs": [
    {
     "data": {
      "text/plain": [
       "22"
      ]
     },
     "execution_count": 35,
     "metadata": {},
     "output_type": "execute_result"
    }
   ],
   "source": [
    "porcentajeperdido(100,10)\n",
    "vidaevaporador(10,5)\n",
    "vidaevaporador(10,10)"
   ]
  },
  {
   "cell_type": "code",
   "execution_count": 14,
   "metadata": {},
   "outputs": [],
   "source": [
    "#4 \n",
    "def numprimo (numero):\n",
    "    divisores = []\n",
    "    for i in range(numero):\n",
    "        if numero % (i+1) == 0:\n",
    "            divisores.append(i+1)\n",
    "\n",
    "    if divisores == [1, numero]:\n",
    "        print('True')\n",
    "    else:\n",
    "        print('False')\n",
    "\n"
   ]
  },
  {
   "cell_type": "code",
   "execution_count": 21,
   "metadata": {},
   "outputs": [
    {
     "name": "stdout",
     "output_type": "stream",
     "text": [
      "[1]\n",
      "[1, 5099]\n",
      "True\n"
     ]
    }
   ],
   "source": [
    "numprimo(5099)"
   ]
  },
  {
   "cell_type": "code",
   "execution_count": 21,
   "metadata": {},
   "outputs": [],
   "source": [
    "#5 FuncionMegusta\n",
    "def megusta (*gente):\n",
    "    personasmas = str(len(gente[2:]))\n",
    "    if len(gente) == 0:\n",
    "        print(f'A nadie le gusta esto')\n",
    "    elif len(gente) == 1:\n",
    "        print(f'A ' + gente[0] + 'le gusta esto')\n",
    "    elif len(gente) == 2:\n",
    "        print(f'A ' + gente[0] + ' y ' + gente[1]+ ' les gusta esto')\n",
    "    elif len(gente) == 3:\n",
    "        print(f'A ' + gente[0] + ', ' + gente[1]+ ' y '+gente[2]+ ' les gusta esto')\n",
    "    else:\n",
    "        print(f'A ' + gente[0] + ', ' + gente[1]+ ' y ' + personasmas+ ' personas mas les gusta esto')"
   ]
  },
  {
   "cell_type": "code",
   "execution_count": null,
   "metadata": {},
   "outputs": [],
   "source": [
    "[]                              -->  \"A nadie le gusta esto\"\n",
    "[\"Paola\"]                       -->  \"A Paola le gusta esto\"\n",
    "[\"Jacoba\", \"Alex\"]               -->  \"A Jacoba y Alex les gusta esto\"\n",
    "[\"Maria\", \"Juana\", \"Lola\"]         -->  \"A Maria, Juana y Lola les gusta esto\"\n",
    "[\"Alex\", \"Jacoba\", \"Lola\", \"Carmen\"]-->  \"A Alex, Jacob ay 2 más les gusta esto\"\n",
    "[\"Alex\", \"Jacoba\", \"Lola\", \"Carmen\", \"Mariana\"]-->  \"A Alex, Jacoba y 3 más les gusta esto\""
   ]
  },
  {
   "cell_type": "code",
   "execution_count": 11,
   "metadata": {},
   "outputs": [
    {
     "data": {
      "text/plain": [
       "3"
      ]
     },
     "execution_count": 11,
     "metadata": {},
     "output_type": "execute_result"
    }
   ],
   "source": [
    "cassandra =  [\"Alex\", \"Jacoba\", \"Lola\", \"Carmen\", \"Mariana\"]\n"
   ]
  },
  {
   "cell_type": "code",
   "execution_count": 22,
   "metadata": {},
   "outputs": [
    {
     "name": "stdout",
     "output_type": "stream",
     "text": [
      "A Maria, Juana y Lola les gusta esto\n"
     ]
    }
   ],
   "source": [
    "megusta(\"Maria\", \"Juana\", \"Lola\")"
   ]
  }
 ],
 "metadata": {
  "kernelspec": {
   "display_name": "base",
   "language": "python",
   "name": "python3"
  },
  "language_info": {
   "codemirror_mode": {
    "name": "ipython",
    "version": 3
   },
   "file_extension": ".py",
   "mimetype": "text/x-python",
   "name": "python",
   "nbconvert_exporter": "python",
   "pygments_lexer": "ipython3",
   "version": "3.9.7"
  },
  "orig_nbformat": 4
 },
 "nbformat": 4,
 "nbformat_minor": 2
}
