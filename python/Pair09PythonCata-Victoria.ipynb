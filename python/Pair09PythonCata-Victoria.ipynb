{
 "cells": [
  {
   "attachments": {},
   "cell_type": "markdown",
   "metadata": {},
   "source": [
    "<h2> Ejercicio 1 </h2>\n",
    "<p>Vamos a crear una \"Calculadora de puntos\". Tenéis que escribir una calculadora que reciba cadenas de caracteres como entrada. Los puntos representarán el número de la ecuación. Habrá puntos en un lado, un operador, y puntos de nuevo después del oparador. Los puntos y el operador estarán separados por un espacio. </p>\n",
    "<ul>\n",
    "    <li>Aquí os dejamos los operadores válidos:</li>\n",
    "    <li>Suma</li>\n",
    "    <li>Resta</li>\n",
    "    <li>Multiplicación</li>\n",
    "    <li>División entera</li>\n",
    "\n",
    "<h4>Vuestro trabajo</h4>\n",
    "\n",
    "<p>Tendréis que devolver un string que contenga puntos, tantos como devuelva la ecuación. Si el resultado es 0, devuelve la cadena vacía. Cuando se trata de una resta, el primer número siempre será mayor o igual que el segundo.</p>"
   ]
  },
  {
   "cell_type": "code",
   "execution_count": 1,
   "metadata": {},
   "outputs": [],
   "source": [
    "def CalculadoraPuntos(string1,string2, operador = 'suma'):\n",
    "    stringf = ''\n",
    "    stringf1 = ''\n",
    "    if string1 == '' and string2 == '': \n",
    "        print('0')\n",
    "    elif operador == 'suma':\n",
    "        stringf = string1 + string2\n",
    "        return stringf1 \n",
    "    elif operador == 'resta':\n",
    "        if len(string1)> len(string2):\n",
    "         stringf1 = string1 - string2\n",
    "         return stringf1\n",
    "        else: \n",
    "         stringf1 = string2 -  string1\n",
    "         return stringf1\n",
    "    elif operador == 'Multiplicación':\n",
    "       stringf1 = string1 * string2 \n",
    "\n"
   ]
  },
  {
   "cell_type": "code",
   "execution_count": null,
   "metadata": {},
   "outputs": [],
   "source": [
    "def CalculadoraPuntos(*string1, operador = 'suma'):\n",
    "    i1 = len(string1)"
   ]
  },
  {
   "attachments": {},
   "cell_type": "markdown",
   "metadata": {},
   "source": [
    "<h2>Ejercicio 2</h2>\n",
    "<p>Te despides de tu mejor amigo, \"Nos vemos el próximo año\".\n",
    "Vuestro trabajo: Dado un año, encuentra el próximo cumpleaños o el año más cercano en el que verás a tu mejor amigo.</p>\n",
    "<h5>Condiciones</h5>\n",
    "<p>Año siempre positivo.\n",
    "El siguiente año que le felicites a tu mejor amigo no puede tener ningún dígito repetido.</p>"
   ]
  },
  {
   "cell_type": "code",
   "execution_count": null,
   "metadata": {},
   "outputs": [],
   "source": []
  },
  {
   "attachments": {},
   "cell_type": "markdown",
   "metadata": {},
   "source": [
    "<h2>Ejercicio 3</h2>\n",
    "<p>Tenéis que crear un función que chequee la vida de un evaporador que contiene un gas.\n",
    "Conocemos el contenido del evaporador (contenido en ml), el porcentaje de gas que se pierde cada día y el umbral en porcentaje a partir del cual el evaporador deja de ser útil. Todos los números serán estrictamente positivos.</p>"
   ]
  },
  {
   "cell_type": "code",
   "execution_count": null,
   "metadata": {},
   "outputs": [],
   "source": []
  },
  {
   "attachments": {},
   "cell_type": "markdown",
   "metadata": {},
   "source": [
    "<h2>Ejercicio 4</h2>\n",
    "<p>Definid una función que tome como argumento un entero y devuelva True o False dependiendo de si el número es primo o no.\n",
    "Según la Wikipedia, un número primo es un número natural mayor que 1 que no tiene divisores positivos más que 1 y él mismo.</p>"
   ]
  },
  {
   "cell_type": "code",
   "execution_count": null,
   "metadata": {},
   "outputs": [],
   "source": []
  },
  {
   "attachments": {},
   "cell_type": "markdown",
   "metadata": {},
   "source": [
    "<h2> Ejercicio 5 </h2>\n",
    "<p>Probablemente conozcais el sistema de \"me gusta\" de Facebook y otras páginas. La gente puede dar \"me gusta\" a las publicaciones del blog, a las imágenes o a otros elementos. Queremos crear el texto que debe mostrarse junto a dicho elemento.\n",
    "Cread una función que toma una lista que contiene los nombres de las personas a las que les gusta un artículo. Debe devolver el texto que se muestra en los ejemplos:</p>"
   ]
  },
  {
   "cell_type": "code",
   "execution_count": null,
   "metadata": {},
   "outputs": [],
   "source": []
  }
 ],
 "metadata": {
  "kernelspec": {
   "display_name": "base",
   "language": "python",
   "name": "python3"
  },
  "language_info": {
   "codemirror_mode": {
    "name": "ipython",
    "version": 3
   },
   "file_extension": ".py",
   "mimetype": "text/x-python",
   "name": "python",
   "nbconvert_exporter": "python",
   "pygments_lexer": "ipython3",
   "version": "3.9.7"
  },
  "orig_nbformat": 4
 },
 "nbformat": 4,
 "nbformat_minor": 2
}
