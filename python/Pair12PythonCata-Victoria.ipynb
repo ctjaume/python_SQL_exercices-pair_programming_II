{
 "cells": [
  {
   "attachments": {},
   "cell_type": "markdown",
   "metadata": {},
   "source": [
    "\n",
    "### Antes de empezar:\n",
    "\n",
    "📌 Cargad el fichero del email que tenemos al final de la explicación del pair de hoy y almacenarlo en una variable. \n",
    "Para abrirlo tendremos que usar el método open aprendido en lecciones anteriores. \n",
    "\n",
    "📌 Importad las librerías necesarias para poder usar las expresiones regulares"
   ]
  },
  {
   "cell_type": "code",
   "execution_count": 4,
   "metadata": {},
   "outputs": [],
   "source": [
    "\n",
    "import os\n",
    "import re"
   ]
  },
  {
   "cell_type": "code",
   "execution_count": 3,
   "metadata": {},
   "outputs": [
    {
     "data": {
      "text/plain": [
       "['\\n',\n",
       " 'Thu Oct 31 08:11:39 2002\\n',\n",
       " '    Return-Path: <bensul2004nng@spinfinder.com>\\n',\n",
       " '    X-Sieve: cmu-sieve 2.0\\n',\n",
       " '    Return-Path: <bensul2004nng@spinfinder.com>\\n',\n",
       " '    Message-Id: <200210311310.g9VDANt24674@bloodwork.mr.itd.UM>\\n',\n",
       " '    From: \"Mr. Ben Suleman\" <bensul2004nng@spinfinder.com>\\n',\n",
       " '    Date: Thu, 31 Oct 2002 05:10:00\\n',\n",
       " '    To: R@M\\n',\n",
       " '    Subject: URGENT ASSISTANCE /RELATIONSHIP (P)\\n',\n",
       " '    MIME-Version: 1.0\\n',\n",
       " '    Content-Type: text/plain;charset=\"iso-8859-1\"\\n',\n",
       " '    Content-Transfer-Encoding: 7bit\\n',\n",
       " '    Status: O\\n',\n",
       " '\\n',\n",
       " '    Dear Friend,\\n',\n",
       " '\\n',\n",
       " '    I am Mr. Ben Suleman a custom officer and work as Assistant controller of the Customs and Excise department Of the Federal Ministry of Internal Affairs stationed at the Murtala Mohammed International Airport, Ikeja, Lagos-Nigeria.\\n',\n",
       " '\\n',\n",
       " '    After the sudden death of the former Head of state of Nigeria General Sanni Abacha on June 8th 1998 his aides and immediate members of his family were arrested while trying to escape from Nigeria in a Chartered jet to Saudi Arabia with 6 trunk boxes Marked \"Diplomatic Baggage\". Acting on a tip-off as they attempted to board the Air Craft,my officials carried out a thorough search on the air craft and discovered that the 6 trunk boxes contained foreign currencies amounting to US$197,570,000.00(One Hundred and  Ninety-Seven Million Five Hundred Seventy Thousand United States Dollars).\\n',\n",
       " '\\n',\n",
       " '    I declared only (5) five boxes to the government and withheld one (1) in my custody containing the sum of (US$30,000,000.00) Thirty Million United States Dollars Only, which has been disguised to prevent their being discovered during transportation process.Due to several media reports on the late head of state about all the money him and his co-government officials stole from our government treasury amounting\\n',\n",
       " '    to US$55 Billion Dollars (ref:ngrguardiannews.com) of July 2nd 1999. Even the London times of July 1998 reported that General Abacha has over US$3.Billion dollars in one account overseas. We decided to conceal this one (1)box till the situation is calm and quite on the issue. The box was thus deposited with a security company here in Nigeria and tagged as \"Precious Stones and Jewellry\" in other that its\\n',\n",
       " '    content will not be discovered. Now that all is calm, we (myself and two of my colleagues in the operations team) are now ready to move this box out of the country through a diplomatic arrangement which is the safest means. \\n',\n",
       " '\\n',\n",
       " '    However as government officials the Civil Service Code of Conduct does not allow us by law to operate any foreign account or own foreign investment and the amount of money that can be found in our account\\n',\n",
       " '    cannot be more than our salary on the average, thus our handicapp and our need for your assistance to help collect and keep safely in your account this money.\\n',\n",
       " '\\n',\n",
       " '    Therefore we want you to assist us in moving this money out of Nigeria. We shall definitely compensate you handsomely for the assistance. We can do this by instructing the Security Company here in Nigeria to\\n',\n",
       " '    move the consignment to their affiliate branch office outside Nigeria through diplomatic means and the consignment will be termed as Precious Stones and Jewelleries\" which you bought during your visit to Nigeria and is being transfered to your country from here for safe keeping. Then we can arrange to meet at the destination country to take the delivery of the consignment. You will thereafter open an account there and lodge the Money there and gradually instruct remittance to your Country. \\n',\n",
       " '\\n',\n",
       " '    This business is 100% risk free for you so please treat this matter with utmost confidentiality .If you indicate your interest to assist us please just e-mail me for more Explanation on how we plan to execute the transaction.\\n',\n",
       " '\\n',\n",
       " '    Expecting your response urgently.\\n',\n",
       " '\\n',\n",
       " '    Best regards,\\n',\n",
       " '\\n',\n",
       " '    Mr. Ben Suleman\\n',\n",
       " '\\n',\n",
       " '    Wed Oct 30 21:41:56 2002\\n',\n",
       " '    Return-Path: <james_ngola2002@maktoob.com>\\n',\n",
       " '    X-Sieve: cmu-sieve 2.0\\n',\n",
       " '    Return-Path: <james_ngola2002@maktoob.com>\\n',\n",
       " '    Message-Id: <200210310241.g9V2fNm6028281@cs.CU>\\n',\n",
       " '    From: \"MR. JAMES NGOLA.\" <james_ngola2002@maktoob.com>\\n',\n",
       " '    Reply-To: james_ngola2002@maktoob.com\\n',\n",
       " '    To: webmaster@aclweb.org\\n',\n",
       " '    Date: Thu, 31 Oct 2002 02:38:20 +0000\\n',\n",
       " '    Subject: URGENT BUSINESS ASSISTANCE AND PARTNERSHIP\\n',\n",
       " '    X-Mailer: Microsoft Outlook Express 5.00.2919.6900 DM\\n',\n",
       " '    MIME-Version: 1.0\\n',\n",
       " '    Content-Type: text/plain; charset=\"us-ascii\"\\n',\n",
       " '    Content-Transfer-Encoding: 8bit\\n',\n",
       " '    X-MIME-Autoconverted: from quoted-printable to 8bit by sideshowmel.si.UM id g9V2foW24311\\n',\n",
       " '    Status: O\\n',\n",
       " '\\n',\n",
       " '    CONFIDENTIAL TEL: 233-27-587908.\\n',\n",
       " '    E-MAIL: (james_ngola2002@maktoob.com).\\n',\n",
       " '\\n',\n",
       " '    URGENT BUSINESS ASSISTANCE AND PARTNERSHIP.\\n',\n",
       " '\\n',\n",
       " '\\n',\n",
       " '    DEAR FRIEND,\\n',\n",
       " '\\n',\n",
       " '    I AM ( DR.) JAMES NGOLA, THE PERSONAL ASSISTANCE TO THE LATE CONGOLESE (PRESIDENT LAURENT KABILA) WHO WAS ASSASSINATED BY HIS BODY GUARD ON 16TH JAN. 2001.\\n',\n",
       " '\\n',\n",
       " '\\n',\n",
       " '    THE INCIDENT OCCURRED IN OUR PRESENCE WHILE WE WERE HOLDING MEETING WITH HIS EXCELLENCY OVER THE FINANCIAL RETURNS FROM THE DIAMOND SALES IN THE AREAS CONTROLLED BY (D.R.C.) DEMOCRATIC REPUBLIC OF CONGO FORCES AND THEIR FOREIGN ALLIES ANGOLA AND ZIMBABWE, HAVING RECEIVED THE PREVIOUS DAY (USD$100M) ONE HUNDRED MILLION UNITED STATES DOLLARS, CASH IN THREE DIPLOMATIC BOXES ROUTED THROUGH ZIMBABWE.\\n',\n",
       " '\\n',\n",
       " '    MY PURPOSE OF WRITING YOU THIS LETTER IS TO SOLICIT FOR YOUR ASSISTANCE AS TO BE A COVER TO THE FUND AND ALSO COLLABORATION IN MOVING THE SAID FUND INTO YOUR BANK ACCOUNT THE SUM OF (USD$25M) TWENTY FIVE MILLION UNITED STATES DOLLARS ONLY, WHICH I DEPOSITED WITH A SECURITY COMPANY IN GHANA, IN A DIPLOMATIC BOX AS GOLDS WORTH (USD$25M) TWENTY FIVE MILLION UNITED STATES DOLLARS ONLY FOR SAFE KEEPING IN A SECURITY VAULT FOR ANY FURTHER INVESTMENT PERHAPS IN YOUR COUNTRY. \\n',\n",
       " '\\n',\n",
       " '    YOU WERE INTRODUCED TO ME BY A RELIABLE FRIEND OF MINE WHO IS A TRAVELLER,AND ALSO A MEMBER OF CHAMBER OF COMMERCE AS A RELIABLE AND TRUSTWORTHY PERSON WHOM I CAN RELY ON AS FOREIGN PARTNER, EVEN THOUGH THE NATURE OF THE TRANSACTION WAS NOT REVEALED TO HIM FOR SECURITY REASONS.\\n',\n",
       " '\\n',\n",
       " '\\n',\n",
       " '    THE (USD$25M) WAS PART OF A PROCEEDS FROM DIAMOND TRADE MEANT FOR THE LATE PRESIDENT LAURENT KABILA WHICH WAS DELIVERED THROUGH ZIMBABWE IN DIPLOMATIC BOXES. THE BOXES WERE KEPT UNDER MY CUSTODY BEFORE THE SAD EVENT THAT TOOK THE LIFE OF (MR. PRESIDENT).THE CONFUSION THAT ENSUED AFTER THE ASSASSINATION AND THE SPORADIC SHOOTING AMONG THE FACTIONS, I HAVE TO RUN AWAY FROM THE COUNTRY FOR MY DEAR LIFE AS I AM NOT A SOLDIER BUT A CIVIL SERVANT I CROSSED RIVER CONGO TO OTHER SIDE OF CONGO LIBREVILLE FROM THERE I MOVED TO THE THIRD COUNTRY GHANA WHERE I AM PRESENTLY TAKING REFUGE. \\n',\n",
       " '\\n',\n",
       " '    AS A MATTER OF FACT, WHAT I URGENTLY NEEDED FROM YOU IS YOUR ASSISTANCE IN MOVING THIS MONEY INTO YOUR ACCOUNT IN YOUR COUNTRY FOR INVESTMENT WITHOUT RAISING EYEBROW. FOR YOUR ASSISTANCE I WILL GIVE YOU 20% OF THE TOTAL SUM AS YOUR OWN SHARE WHEN THE MONEY GETS TO YOUR ACCOUNT, WHILE 75% WILL BE FOR ME, OF WHICH WITH YOUR KIND ADVICE I HOPE TO INVEST IN PROFITABLE VENTURE IN YOUR COUNTRY IN OTHER TO SETTLE DOWN FOR MEANINGFUL LIFE, AS I AM TIRED OF LIVING IN A WAR ENVIRONMENT. \\n',\n",
       " '\\n',\n",
       " '    THE REMAINING 5% WILL BE USED TO OFFSET ANY COST INCURRED IN THE CAUSE OF MOVING THE MONEY TO YOUR ACCOUNT. IF THE PROPOSAL IS ACCEPTABLE TO YOU PLEASE CONTACT ME IMMEDIATELY THROUGH THE ABOVE TELEPHONE AND E-MAIL, TO ENABLE ME ARRANGE FACE TO FACE MEETING WITH YOU IN GHANA FOR THE CLEARANCE OF THE FUNDS BEFORE TRANSFRING IT TO YOUR BANK ACCOUNT AS SEEING IS BELIEVING. \\n',\n",
       " '\\n',\n",
       " '    FINALLY, IT IS IMPORTANT ALSO THAT I LET YOU UNDERSTAND THAT THERE IS NO RISK INVOLVED WHATSOEVER AS THE MONEY HAD NO RECORD IN KINSHASA FOR IT WAS MEANT FOR THE PERSONAL USE OF (MR. PRESIDEND ) BEFORE THE NEFARIOUS INCIDENT OCCURRED, AND ALSO I HAVE ALL THE NECESSARY DOCUMENTS AS REGARDS TO THE FUNDS INCLUDING THE (CERTIFICATE OF DEPOSIT), AS I AM THE DEPOSITOR OF THE CONSIGNMENT.\\n',\n",
       " '\\n',\n",
       " '\\n',\n",
       " '    LOOKING FORWARD TO YOUR URGENT RESPONSE.\\n',\n",
       " '\\n',\n",
       " '    YOUR SINCERELY,\\n',\n",
       " '\\n',\n",
       " '    MR. JAMES NGOLA. \\n',\n",
       " '\\n']"
      ]
     },
     "execution_count": 3,
     "metadata": {},
     "output_type": "execute_result"
    }
   ],
   "source": [
    "\n",
    "with open('./email.txt', 'r') as f:\n",
    "    email = f.readlines()\n",
    "    \n",
    "email\n"
   ]
  },
  {
   "attachments": {},
   "cell_type": "markdown",
   "metadata": {},
   "source": [
    "#### 1 Extraer el email de la persona que envió el email (os deberían salir 2).\n",
    "\n",
    "💡 Pista 💡 Tendremos que hacer dos busquedas:\n",
    "\n",
    "Una para extraer toda la información del remitente. El remitente siempre empieza por From:\n",
    "\n",
    "info_remitente = re.findall('From:.*',email)\n",
    "\n",
    "Otra para extraer el email únicamente."
   ]
  },
  {
   "cell_type": "code",
   "execution_count": 28,
   "metadata": {},
   "outputs": [],
   "source": [
    "info_remitente = []\n",
    "for lista in email:\n",
    "        if len(re.findall('From:.*', lista))>=1:        \n",
    "                info_remitente.extend(re.findall('From:.*', lista))\n",
    "        else:\n",
    "             pass   \n",
    "        \n",
    "    "
   ]
  },
  {
   "cell_type": "code",
   "execution_count": 29,
   "metadata": {},
   "outputs": [
    {
     "name": "stdout",
     "output_type": "stream",
     "text": [
      "['From: \"Mr. Ben Suleman\" <bensul2004nng@spinfinder.com>', 'From: \"MR. JAMES NGOLA.\" <james_ngola2002@maktoob.com>']\n"
     ]
    }
   ],
   "source": [
    "print(info_remitente)"
   ]
  },
  {
   "attachments": {},
   "cell_type": "markdown",
   "metadata": {},
   "source": [
    "#### 2 Extraer el nombre de la persona que envió el email (os deberían salir 2).\n",
    "\n",
    "💡 Pista 💡 Tendremos que hacer dos busquedas:\n",
    "\n",
    "Podemos usar el resultado de la primera búsqueda del ejercicio anterior para sacar el nombre.\n",
    "\n",
    "Otra para extraer el nombre únicamente.\n"
   ]
  },
  {
   "cell_type": "code",
   "execution_count": 30,
   "metadata": {},
   "outputs": [
    {
     "name": "stdout",
     "output_type": "stream",
     "text": [
      "['\"Mr. Ben Suleman\"', '\"MR. JAMES NGOLA.\"']\n"
     ]
    }
   ],
   "source": [
    "nombre_remitente = []\n",
    "for lista in info_remitente:                                     \n",
    "        nombre_remitente.extend(re.findall('\\\"\\w*.............\\.?\\\"', lista))\n",
    "                \n",
    "print(nombre_remitente)        "
   ]
  },
  {
   "attachments": {},
   "cell_type": "markdown",
   "metadata": {},
   "source": [
    "#### 3 El día en el que se mandó el email (os deberían salir 2).\n",
    "\n",
    "💡 Pista 💡 De la misma forma que antes buscamos por From: primero, ahora lo tendremos que hacer con Date: .*\n"
   ]
  },
  {
   "cell_type": "code",
   "execution_count": 32,
   "metadata": {},
   "outputs": [
    {
     "name": "stdout",
     "output_type": "stream",
     "text": [
      "['Date: Thu, 31 Oct 2002 05:10:00', 'Date: Thu, 31 Oct 2002 02:38:20 +0000']\n"
     ]
    }
   ],
   "source": [
    "fecha_email = []\n",
    "for lista in email:\n",
    "        if len(re.findall('Date:.*', lista))>=1:        \n",
    "                fecha_email.extend(re.findall('Date:.*', lista))\n",
    "        else:\n",
    "             pass \n",
    "     \n",
    "print(fecha_email)"
   ]
  },
  {
   "attachments": {},
   "cell_type": "markdown",
   "metadata": {},
   "source": [
    "#### 4 El asunto del email (os deberían salir 2).\n",
    "\n",
    "💡 Pista 💡 Busca primero \"Subject:.* y después busca el patrón para extraer el asunto.\n"
   ]
  },
  {
   "cell_type": "code",
   "execution_count": 33,
   "metadata": {},
   "outputs": [
    {
     "name": "stdout",
     "output_type": "stream",
     "text": [
      "['Subject: URGENT ASSISTANCE /RELATIONSHIP (P)', 'Subject: URGENT BUSINESS ASSISTANCE AND PARTNERSHIP']\n"
     ]
    }
   ],
   "source": [
    "asunto_email = []\n",
    "for lista in email:\n",
    "        if len(re.findall('Subject:.*', lista))>=1:        \n",
    "                asunto_email.extend(re.findall('Subject:.*', lista))\n",
    "        else:\n",
    "             pass \n",
    "     \n",
    "print(asunto_email)"
   ]
  },
  {
   "attachments": {},
   "cell_type": "markdown",
   "metadata": {},
   "source": [
    "#### 5 Guarda todos los resultados en un diccionario\n"
   ]
  },
  {
   "cell_type": "code",
   "execution_count": null,
   "metadata": {},
   "outputs": [],
   "source": [
    "datos_email = {}"
   ]
  },
  {
   "attachments": {},
   "cell_type": "markdown",
   "metadata": {},
   "source": [
    "#### 💪🏽 BONUS 💪🏽\n",
    "\n",
    "Utiliza funciones para cada una de los objetivos planteados."
   ]
  },
  {
   "cell_type": "code",
   "execution_count": null,
   "metadata": {},
   "outputs": [],
   "source": []
  }
 ],
 "metadata": {
  "kernelspec": {
   "display_name": "base",
   "language": "python",
   "name": "python3"
  },
  "language_info": {
   "codemirror_mode": {
    "name": "ipython",
    "version": 3
   },
   "file_extension": ".py",
   "mimetype": "text/x-python",
   "name": "python",
   "nbconvert_exporter": "python",
   "pygments_lexer": "ipython3",
   "version": "3.9.7"
  },
  "orig_nbformat": 4
 },
 "nbformat": 4,
 "nbformat_minor": 2
}
