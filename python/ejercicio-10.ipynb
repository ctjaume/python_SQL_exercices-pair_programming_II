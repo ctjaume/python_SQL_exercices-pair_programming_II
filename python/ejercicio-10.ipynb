{
 "cells": [
  {
   "attachments": {},
   "cell_type": "markdown",
   "metadata": {},
   "source": [
    "\n",
    "En este ejercicio de pair programming crearemos una clase. \n",
    "\n",
    "Imaginemos que nuestro jefe nos pide que creemos una clase para tener más ordenada la información sobre cada uno de los empleados de la empresa.\n",
    "\n",
    "Para ello:\n",
    "\n",
    "Definid una clase que se llame Empleados\n",
    "\n",
    "Definid los siguientes atributos que caracterizan a nuestros empleados:\n",
    "\n",
    "nombre\n",
    "\n",
    "apellido\n",
    "\n",
    "edad\n",
    "\n",
    "posición que ocupa en la empresa\n",
    "\n",
    "año en que entró en la empresa\n",
    "\n",
    "número de días de vacaciones que tiene\n",
    "\n",
    "Las herramientas que usa cada uno de ellos, por ejemplo, Outlook, excel y word. Deberá ser una lista.\n",
    "\n"
   ]
  },
  {
   "cell_type": "code",
   "execution_count": null,
   "metadata": {},
   "outputs": [],
   "source": []
  },
  {
   "attachments": {},
   "cell_type": "markdown",
   "metadata": {},
   "source": [
    "Cread una instancia para la clase creada\n",
    "\n"
   ]
  },
  {
   "cell_type": "code",
   "execution_count": null,
   "metadata": {},
   "outputs": [],
   "source": []
  },
  {
   "attachments": {},
   "cell_type": "markdown",
   "metadata": {},
   "source": [
    "Definid los siguientes métodos:\n",
    "\n",
    "descripción\n",
    "\n",
    "calculo_vacaciones\n",
    "\n",
    "cambiando_posicion\n",
    "\n",
    "Tips para definir los métodos:\n",
    "\n",
    "Método descripcion:\n",
    "\n",
    "El return deberá ser un string en el que aparezca el nombre, apellidos, los años que lleva en la empresa y los días de vacaciones que le quedan.\n",
    "\n",
    "Este método deberá devolver algo como esto:\n",
    "\n",
    "\"El/ella, es Lorena, Data Analyst, quien lleva con nostros en la empresa desde 2000. Además este año le quedan 15 dias de vacaciones\"\n",
    "\n"
   ]
  },
  {
   "cell_type": "code",
   "execution_count": null,
   "metadata": {},
   "outputs": [],
   "source": []
  },
  {
   "attachments": {},
   "cell_type": "markdown",
   "metadata": {},
   "source": [
    "Método calculo_vacaciones:\n",
    "\n",
    "Deberá contener input que nos pregunte cuántos días te quieres ir de vacaciones.\n",
    "\n",
    "Luego deberemos restar el número de días que se fue de vacaciones a el número total de vacaciones que tiene ese empleado.\n",
    "\n",
    "Una condición que chequee si:\n",
    "\n",
    "Si el numero de vacaciones que tiene el empleado es igual a 0, devolved un mensaje que diga que se le acabaron las vacaciones\n",
    "\n",
    "Si el número de días que se quiere ir de vacaciones es mayor que el número de vacaciones que le quedan, devolved un mensaje que diga que no se \n",
    "\n",
    "puede ir tantos de vacaciones\n",
    "\n",
    "En caso de que no se cumplan ninguna de estas condiciones, que nos devuelva el número de vacaciones que le quedan al empleado.\n",
    "\n"
   ]
  },
  {
   "cell_type": "code",
   "execution_count": null,
   "metadata": {},
   "outputs": [],
   "source": []
  },
  {
   "attachments": {},
   "cell_type": "markdown",
   "metadata": {},
   "source": [
    "Método cambiando_posicion:\n",
    "\n",
    "Iteraremos por la lista de herramientas que usa el empleado:\n",
    "\n",
    "Si el empleado usa \"Python\" devolveremos un mensaje de bien hecho!\n",
    "\n",
    "Si el empleado usa \"Excel\" le recomendaremos amigablemente que deje excel y empiece a usar Python\n"
   ]
  },
  {
   "cell_type": "code",
   "execution_count": null,
   "metadata": {},
   "outputs": [],
   "source": []
  }
 ],
 "metadata": {
  "kernelspec": {
   "display_name": "base",
   "language": "python",
   "name": "python3"
  },
  "language_info": {
   "codemirror_mode": {
    "name": "ipython",
    "version": 3
   },
   "file_extension": ".py",
   "mimetype": "text/x-python",
   "name": "python",
   "nbconvert_exporter": "python",
   "pygments_lexer": "ipython3",
   "version": "3.9.7"
  },
  "orig_nbformat": 4
 },
 "nbformat": 4,
 "nbformat_minor": 2
}
