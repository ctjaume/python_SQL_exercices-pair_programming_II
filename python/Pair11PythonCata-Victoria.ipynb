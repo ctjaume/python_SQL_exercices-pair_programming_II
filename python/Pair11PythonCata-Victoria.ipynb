{
 "cells": [
  {
   "attachments": {},
   "cell_type": "markdown",
   "metadata": {},
   "source": [
    "<h4>---------------------------------- PRIMERA FUNCIÓN -----------------------</h4>\n",
    "<p>Esta función debe incluir el código que:</p>\n",
    "<ol>\n",
    "<li>Nos muestre en que carpeta estamos trabajando.</li>\n",
    "<li>Cree una carpeta que se llame \"aprendiendo-ficheros\". ⚠️ Tened en cuenta que si la carpeta ya existe no la podemos crear, nos devolverá un error. Incluye en la función un programa que evite que nos de un error si la carpeta ya existe.</li>\n",
    "<li>Cree otra carpeta que se llame \"datos\" dentro de la carpeta \"aprendiendo-ficheros\". En esta carpeta \"datos\" guardaremos el fichero \"saludo.txt\" que os habéis descargado.</li>\n",
    "<li>Cambiad el directorio de trabajo a la carpeta \"datos\". Antes de seguir chequead que estáis trabajando en la carpeta \"datos\".</li>\n",
    "<li>Cambiad el nombre de la carpeta creada en el punto 2 a \"primera-toma-contacto\"</li>\n",
    "</ol>\n",
    "<p>💡 Pistas para resolver este ejercicio 💡 </p>\n",
    "<ol>\n",
    "<li>Esta función debe incluir el código que:<li>\n",
    "<ul>\n",
    "<li>La función tendrá que recibir 3 parámetros:</li>\n",
    "<li>El nombre del nombre de la primera carpeta</li>\n",
    "<li>El nombre de la carpeta segunda carpeta</li>\n",
    "<li>El nombre con el que queramos cambiar el nombre de la primera carpeta creada</li>\n",
    "</ul>\n",
    "<li>Para saber si las carpetas ya existen tendréis que usar lstdir(recordad que nos devuelve una lista de ficheros y carpetas).</li>\n",
    "<li>Para poder controlar los errores tendremos que usar un if loop, que si el fichero existe, nos devuelva un mensaje de que el fichero ya existe. En caso de que no exista, los deberéis crear y que la función nos muestre un mensaje de que se ha creado.</li>\n",
    "<li>Tendréis que ir cambiando de directorio para poder crear las carpetas y cambiar sus nombres.</li>\n",
    "</ol>"
   ]
  },
  {
   "cell_type": "code",
   "execution_count": 2,
   "metadata": {},
   "outputs": [],
   "source": [
    "import os\n",
    "nombre1_c1 = 'aprendiendo-ficheros'\n",
    "nombre1_c2 = 'datos'\n",
    "nombre2_c1 =  'primera-toma-contacto'"
   ]
  },
  {
   "cell_type": "code",
   "execution_count": 12,
   "metadata": {},
   "outputs": [],
   "source": [
    "def primera_funcion (nombre1,nombre2,nombre3):\n",
    "    ubi_actual = os.getcwd()\n",
    "    if nombre1 in os.listdir():\n",
    "        print('La carpeta ya está creada')\n",
    "    else: \n",
    "        os.mkdir(ubi_actual + '/' + nombre1)\n",
    "        print('Has creado la carpeta', nombre1)\n",
    "    os.chdir(ubi_actual + '/' + nombre1)\n",
    "    ubi_nombre2 = os.getcwd()\n",
    "    if nombre2 is os.listdir():\n",
    "        print('La carpeta ya está creada')\n",
    "    else: \n",
    "        os.mkdir(ubi_nombre2 + '/' + nombre2)\n",
    "        print('Has creado la carpeta', nombre2)\n",
    "    \n",
    "    if nombre3 in os.listdir(ubi_actual):\n",
    "        print('La carpeta ya está creada')\n",
    "    else:\n",
    "        os.chdir(ubi_actual) \n",
    "        os.rename(nombre1,nombre3)\n",
    "        print('Hemos renombreado la carpeta a ', nombre1)\n"
   ]
  },
  {
   "cell_type": "code",
   "execution_count": 13,
   "metadata": {},
   "outputs": [
    {
     "name": "stdout",
     "output_type": "stream",
     "text": [
      "Has creado la carpeta aprendiendo-ficheros\n",
      "Has creado la carpeta datos\n",
      "Hemos renombreado la carpeta a  aprendiendo-ficheros\n"
     ]
    }
   ],
   "source": [
    "primera_funcion(nombre1_c1,nombre1_c2,nombre2_c1)"
   ]
  },
  {
   "attachments": {},
   "cell_type": "markdown",
   "metadata": {},
   "source": [
    "<h5>Lea el fichero que se llame \"saludo.txt y muestre su contenido completo.<h5>\n",
    "<p>1. Muestra la línea 4 del fichero </p>\n",
    "💡 Pistas para resolver este ejercicio 💡\n",
    "<p>Antes de empezar, tendréis que saber cuál es vuestro directorio de trabajo. </p>\n",
    "<p>Tened en cuenta en que carpeta estáis. Si vuestro directorio de trabajo no es \"datos\" tendréis que cambiarlo o poner la ruta relativa a la carpeta \"datos\".</p>\n",
    "<p>Usar if... else para evitar que se nos pare el código.</p>\n",
    "<p>Para cambiar el fichero podréis usar el comando input para preguntar el usuario donde está el fichero y que se pueda usar la ruta relativa o absoluta.</p>"
   ]
  },
  {
   "cell_type": "code",
   "execution_count": null,
   "metadata": {},
   "outputs": [],
   "source": [
    "def segunda_Funcion():\n",
    "    os.chdir(/datos)\n",
    "    ubi_datos = os.getcwd()\n",
    "    ubicacion = input('¿Quieres usar una ruta relativa o absoluta para la ubicación?')\n",
    "    if ubicacion == 'relativa':\n",
    "        ubi_actual = '/datos'\n",
    "    else:\n",
    "        os.chdir(ubi_datos)\n",
    "    \n",
    "    with open('saludo.txt') as f:\n",
    "        f.readline(4)"
   ]
  },
  {
   "attachments": {},
   "cell_type": "markdown",
   "metadata": {},
   "source": [
    "<h5>Lectura y escritura de ficheros</h5>\n",
    "<ol>\n",
    "<li>La función debe recibir 4 parámetros:</li>\n",
    "<ul>\n",
    "<li>Nombre del fichero, incluyendo la extensión.</li>\n",
    "<li>Como queremos leer el fichero.</li>\n",
    "<li>El encoding del fichero.</li>\n",
    "<li>El contenido que queremos escribir en el fichero.</li>\n",
    "</ul>\n",
    "<li>Condiciones de la función:<li>\n",
    "<ul>\n",
    "<li>Si el fichero no existe, debe crearlo, insertar contenido y mostrar su contenido.</li>\n",
    "<li>Si el fichero existe pregunta al usuario si quiere sobreescribirlo. En caso de Si, sobreescribe el fichero, insertad contenido y leedlo. En caso de No, no hace nada.</li>\n",
    "</ul>\n",
    "</ol>"
   ]
  },
  {
   "cell_type": "code",
   "execution_count": null,
   "metadata": {},
   "outputs": [],
   "source": [
    "string1 = \"Esta es la linea de la tercera funcion\""
   ]
  },
  {
   "cell_type": "code",
   "execution_count": null,
   "metadata": {},
   "outputs": [],
   "source": [
    "def tercera_funcion(nombre_fichero, string1, encoding = 'UTF-8', mode= 'rt'):\n",
    "    if nombre_fichero is os.listdir():\n",
    "        "
   ]
  },
  {
   "attachments": {},
   "cell_type": "markdown",
   "metadata": {},
   "source": [
    "<p>En este ejercicio tendréis que crear una función que reciba el nombre del archivo xml y que devuelva lo siguiente:<p>\n",
    "<ol>\n",
    "<li>Qué tag y atributos tiene el archivo xml.</li>\n",
    "<li>La descripción de cada una de las películas que tenemos en ese archivo.</li>\n",
    "<li>Los años en que fueron estrenadas las películas.</li>\n",
    "💡 Pistas 💡\n",
    "<p>La función debe recibir un parámetro, el nombre del archivo xml.\n",
    "Tendréis que utlizar un bucle for para recorrer todo el archivo xml y extraer la información que os pedimos.\n",
    "Recordad el método .text para extraer el texto de un elemento.</p>"
   ]
  },
  {
   "cell_type": "code",
   "execution_count": null,
   "metadata": {},
   "outputs": [],
   "source": [
    "for hijo in root:\n",
    "    print(hijo.tag)\n",
    "    print(\"---------------\")\n",
    "    for nieto in hijo:\n",
    "        print(nieto.tag)\n",
    "        print(\".............\")\n",
    "        if nieto.tag == \"rgb\":\n",
    "            for bisnieto in nieto:\n",
    "                print(bisnieto.tag)\n",
    "                print(\"**********\")\n",
    "        else:\n",
    "            pass"
   ]
  },
  {
   "cell_type": "code",
   "execution_count": null,
   "metadata": {},
   "outputs": [],
   "source": []
  }
 ],
 "metadata": {
  "kernelspec": {
   "display_name": "base",
   "language": "python",
   "name": "python3"
  },
  "language_info": {
   "codemirror_mode": {
    "name": "ipython",
    "version": 3
   },
   "file_extension": ".py",
   "mimetype": "text/x-python",
   "name": "python",
   "nbconvert_exporter": "python",
   "pygments_lexer": "ipython3",
   "version": "3.9.7"
  },
  "orig_nbformat": 4
 },
 "nbformat": 4,
 "nbformat_minor": 2
}
