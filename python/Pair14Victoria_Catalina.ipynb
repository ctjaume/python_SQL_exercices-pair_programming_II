{
 "cells": [
  {
   "cell_type": "markdown",
   "metadata": {},
   "source": [
    "Sigamos trabajando con SQL desde nuestro jupyter! En este caso crearemos una BBDD\n",
    "Objetivos\n",
    "Durante la clase de pair programming de creación de tablas de SQL nos creamos nuestra primerita BBDD desde cero en Workbench. En el ejercicio de hoy volveremos a crear esa misma BBDD, pero esta vez desde Python.\n",
    "📌 NOTA Utilizad el nombre de la BBDD de mi_primerita_BBDD_Python\n",
    "📌 NOTA Cuando creeis las distintas tablas de vuestra BBDD repetereis la mismas lineas de código una y otra vez. Para evitar esto, crearos una función que nos sirva para crear tablas independientemente del contenido de la tabla. \n",
    "La función recibirá como parámetros:\n",
    "Contraseña de la conexión al servidor.\n",
    "Query para crear la tabla."
   ]
  },
  {
   "cell_type": "code",
   "execution_count": 1,
   "metadata": {},
   "outputs": [],
   "source": [
    "import mysql.connector"
   ]
  },
  {
   "cell_type": "code",
   "execution_count": 2,
   "metadata": {},
   "outputs": [
    {
     "name": "stdout",
     "output_type": "stream",
     "text": [
      "CMySQLCursor: CREATE DATABASE mi_primerita_BBDD_Python\n"
     ]
    }
   ],
   "source": [
    "cnx = mysql.connector.connect(user='root', password='AlumnaAdalab',\n",
    "                              host='127.0.0.1')\n",
    "\n",
    "\n",
    "mycursor = cnx.cursor()\n",
    "try:\n",
    "    mycursor.execute(\"CREATE DATABASE mi_primerita_BBDD_Python\")\n",
    "    print(mycursor)\n",
    "except mysql.connector.Error as err:\n",
    "    print(err)\n",
    "    print(\"Error Code:\", err.errno)\n",
    "    print(\"SQLSTATE\", err.sqlstate)\n",
    "    print(\"Message\", err.msg)"
   ]
  },
  {
   "cell_type": "markdown",
   "metadata": {},
   "source": [
    "\n",
    "A modo de recap de lo que contenía la BBDD:\n",
    "Tabla Zapatillas: tiene 4 columnas: id, modelo, color, talla con las siguientes características:\n",
    "idZapatillas: es una clave primaria de tipo int, autoincremental y no nula.\n",
    "Modelo: es una cadena de caracteres de longitud máxima de 45 caracteres, no nula.\n",
    "Color: es una cadena de caracteres de longitud máxima de 45 caracteres, no nula.\n",
    "Talla: es entero, no nula."
   ]
  },
  {
   "cell_type": "code",
   "execution_count": 4,
   "metadata": {},
   "outputs": [],
   "source": [
    "def creacion_tablas(sql, passw = 'AlumnaAdalab'):\n",
    "    cnx = mysql.connector.connect(user='root', password=passw,\n",
    "                              host='127.0.0.1', database='mi_primerita_BBDD_Python')\n",
    "\n",
    "\n",
    "    mycursor = cnx.cursor()\n",
    "    try:\n",
    "        mycursor.execute(sql)\n",
    "        print(mycursor)\n",
    "    except mysql.connector.Error as err:\n",
    "        print(err)\n",
    "        print(\"Error Code:\", err.errno)\n",
    "        print(\"SQLSTATE\", err.sqlstate)\n",
    "        print(\"Message\", err.msg)"
   ]
  },
  {
   "cell_type": "code",
   "execution_count": 5,
   "metadata": {},
   "outputs": [
    {
     "name": "stdout",
     "output_type": "stream",
     "text": [
      "CMySQLCursor: CREATE TABLE zapatillas (id_zapatillas I..\n"
     ]
    }
   ],
   "source": [
    "zapatillas = \"\"\"CREATE TABLE zapatillas (id_zapatillas INT NOT NULL AUTO_INCREMENT PRIMARY KEY, modelo_zapatilla VARCHAR(45) not null, \n",
    "color_zapatilla VARCHAR (45) not null, talla_zapatilla INT NOT NULL)\"\"\"\n",
    "creacion_tablas(zapatillas)"
   ]
  },
  {
   "cell_type": "markdown",
   "metadata": {},
   "source": [
    "Tabla Clientes: tiene 9 columnas idcliente, nombre, numero_telefono, email, direccion, ciudad, provincia, pais, codigo_postal con las siguientes características:\n",
    "idCliente: es una clave primaria de tipo int, autoincremental y no nula.\n",
    "Nombre: es una cadena de caracteres de longitud máxima de 45 caracteres, no nula.\n",
    "Numero_telefono: es un entero de longitud máxima de 9 caracteres, no nula.\n",
    "Email: es una cadena de caracteres de longitud máxima de 45 caracteres, no nula.\n",
    "Direccion: es una cadena de caracteres de longitud máxima de 45 caracteres, no nula.\n",
    "Ciudad: es una cadena de caracteres de longitud máxima de 45 caracteres, puede ser nula.\n",
    "Provincia: es una cadena de caracteres de longitud máxima de 45 caracteres, no nula.\n",
    "Pais: es una cadena de caracteres de longitud máxima de 45 caracteres, no nula.\n",
    "Codigo_postal: entero de máxima longitud 9, no nula."
   ]
  },
  {
   "cell_type": "code",
   "execution_count": 7,
   "metadata": {},
   "outputs": [
    {
     "name": "stdout",
     "output_type": "stream",
     "text": [
      "CMySQLCursor: CREATE TABLE clientes (idCliente INT NOT..\n"
     ]
    }
   ],
   "source": [
    "clientes =  \"\"\"CREATE TABLE clientes (idCliente INT NOT NULL AUTO_INCREMENT PRIMARY KEY, nombre_cliente VARCHAR(45) not null,\n",
    "telefono_cliente VARCHAR(9) not null, email_cliente VARCHAR(45) not null, Dirección_cliente VARCHAR(45) not null, Ciudad_cliente VARCHAR(45) not null,\n",
    "Provincia_cliente VARCHAR(45) not null, Pais_cliente VARCHAR(45)  not null, CP_cliente INT(9) not null)\"\"\"\n",
    "creacion_tablas(clientes)"
   ]
  },
  {
   "cell_type": "markdown",
   "metadata": {},
   "source": [
    "Tabla Empleados: tiene 5 columnas idEmpleado, nombre, tienda, salario, fecha_incorporacion con las siguientes características:\n",
    "idEmpleado: es una clave primaria de tipo int, autoincremental y no nula.\n",
    "Nombre: es una cadena de caracteres de longitud máxima de 45 caracteres, no nula.\n",
    "Tienda: es una cadena de caracteres de longitud máxima de 45 caracteres, no nula.\n",
    "salario: es decimal, puede ser nula.\n",
    "fecha_incorporacion: es una columna de tipo date, no nula.\n"
   ]
  },
  {
   "cell_type": "code",
   "execution_count": 8,
   "metadata": {},
   "outputs": [
    {
     "name": "stdout",
     "output_type": "stream",
     "text": [
      "CMySQLCursor: CREATE TABLE empleados (idEmpleado INT N..\n"
     ]
    }
   ],
   "source": [
    "empleados =  \"\"\"CREATE TABLE empleados (idEmpleado INT NOT NULL AUTO_INCREMENT PRIMARY KEY, nombre_empleado VARCHAR(45) not null,\n",
    "tienda VARCHAR(45) not null, salario_empleado float, fecha_incorporacion DATE NOT NULL)\"\"\"\n",
    "creacion_tablas(empleados)"
   ]
  },
  {
   "cell_type": "markdown",
   "metadata": {},
   "source": [
    "Tabla Facturas: tiene 5 columnas idFactura, idEmpleado, idCliente, fecha, total con las siguientes características:\n",
    "idFactura: es una clave primaria de tipo int, autoincremental y no nula.\n",
    "idEmpleado: es una clave foránea de tipo int, no nula.\n",
    "idCliente: es una clave foránea de tipo int, no nula.\n",
    "idZapatilla: es una clave foránea de tipo int, no nula\n",
    "Fecha: es una columna de tipo date, no nula.\n",
    "Total: es decimal, no nula.\n",
    "📌 NOTA En esta última tabla tendremos que incluir todos los CONSTRAINTnecesarios para establecer los relaciones entre las tablas, donde tendremos que especificar:\n",
    "Foreign Key\n",
    "References"
   ]
  },
  {
   "cell_type": "code",
   "execution_count": 11,
   "metadata": {},
   "outputs": [
    {
     "name": "stdout",
     "output_type": "stream",
     "text": [
      "CMySQLCursor: CREATE TABLE Facturas (idFacturas INT NO..\n"
     ]
    }
   ],
   "source": [
    "facturas = \"\"\"CREATE TABLE Facturas (idFacturas INT NOT NULL AUTO_INCREMENT PRIMARY KEY, idEmpleado INT NOT NULL,\n",
    "idCliente INT NOT NULL, idZapatilla INT NOT NULL, Fecha DATE NOT NULL, Total float NOT NULL, CONSTRAINT fk_facturas_empleados FOREIGN KEY (idEmpleado) REFERENCES empleados(idEmpleado),\n",
    "CONSTRAINT fk_facturas_cliente FOREIGN KEY (idCliente) REFERENCES clientes(idCliente), CONSTRAINT fk_facturas_zapatilla FOREIGN KEY (idZapatilla) REFERENCES zapatillas(id_zapatillas))\"\"\"\n",
    "creacion_tablas(facturas)"
   ]
  }
 ],
 "metadata": {
  "kernelspec": {
   "display_name": "Python 3",
   "language": "python",
   "name": "python3"
  },
  "language_info": {
   "codemirror_mode": {
    "name": "ipython",
    "version": 3
   },
   "file_extension": ".py",
   "mimetype": "text/x-python",
   "name": "python",
   "nbconvert_exporter": "python",
   "pygments_lexer": "ipython3",
   "version": "3.10.7"
  },
  "orig_nbformat": 4
 },
 "nbformat": 4,
 "nbformat_minor": 2
}
