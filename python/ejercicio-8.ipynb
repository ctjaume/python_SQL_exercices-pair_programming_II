{
 "cells": [
  {
   "attachments": {},
   "cell_type": "markdown",
   "metadata": {},
   "source": [
    "1.Cread una función que reciba 2 números enteros en forma de string como entrada, y dé como resultado la suma (también en forma de string)\n",
    "Condiciones:\n",
    "Si los dos parámetros que recibe la función son strings vacíos la función nos debe devolver \"0\"\n",
    "Si el primer parámetro es un string vacío, la función nos devuelve el valor del segundo parámetro y viceversa.\n",
    "\n",
    "Probad la función para las siguientes combinaciones de \"números\"\n",
    "\n",
    "Parámetros que recibe la función: \"4\",  \"5\" --> Output esperado: \"9\"\n",
    "\n",
    "Parámetros que recibe la función: \"34\", \"5\" --> Output esperado: \"39\"\n",
    "\n",
    "Parámetros que recibe la función: \"\", \"\" --> Output esperado: \"0\"\n",
    "\n",
    "Parámetros que recibe la función: \"2\", \"\" --> Output esperado: \"2\"\n",
    "\n",
    "Parámetros que recibe la función: \"-5\", \"3\" --> Output esperado: \"-2\""
   ]
  },
  {
   "cell_type": "code",
   "execution_count": 1,
   "metadata": {},
   "outputs": [],
   "source": [
    "def suma_string(a,b):\n",
    "    \n",
    "    if a == False and b == b.empty():\n",
    "        print('0')       \n",
    "    elif a == a.empty():\n",
    "        print(b)\n",
    "    elif b == b.empty():\n",
    "        print(a)\n",
    "    else:\n",
    "        int(a)\n",
    "        int(b)\n",
    "        resultado = str(sum(a,b))\n",
    "        \n",
    "    return resultado"
   ]
  },
  {
   "cell_type": "code",
   "execution_count": 20,
   "metadata": {},
   "outputs": [],
   "source": [
    "def suma_string(a,b):\n",
    "     if len(a) == 0 and len(b) == 0:  #b == ''\n",
    "        print('0')       \n",
    "     elif len(a) == 0:\n",
    "        print(b)\n",
    "     elif len(b) == 0:\n",
    "        print(a)\n",
    "     else:\n",
    "        resultado = int(a) + int(b)        \n",
    "        return str(resultado)"
   ]
  },
  {
   "cell_type": "code",
   "execution_count": 21,
   "metadata": {},
   "outputs": [
    {
     "name": "stdout",
     "output_type": "stream",
     "text": [
      "5\n"
     ]
    }
   ],
   "source": [
    "suma_string('','5')"
   ]
  },
  {
   "attachments": {},
   "cell_type": "markdown",
   "metadata": {},
   "source": [
    "2.El objetivo es comparar cada par de enteros de 2 listas, y devolver una nueva lista con el número mayor de la comapración..\n",
    "\n",
    "Probad la función para las siguientes listas: \n",
    "\n",
    "arr1 = [13, 64, 15, 17, 88]\n",
    "\n",
    "arr2 = [23, 14, 53, 17, 80]\n",
    "\n",
    "resultado = [23, 64, 53, 17, 88]\n",
    "\n",
    " Pista 💡 En Python existe el método zip."
   ]
  },
  {
   "cell_type": "code",
   "execution_count": 27,
   "metadata": {},
   "outputs": [],
   "source": [
    "def comparar (lista1, lista2):     #diccio.items()\n",
    "    listas = zip(lista1, lista2)\n",
    "    lista_mayores = []\n",
    "    for num1, num2 in listas:\n",
    "        if num1 > num2:\n",
    "            print(num1) \n",
    "            lista_mayores.append(num1)\n",
    "        else:\n",
    "            print(num2)\n",
    "            lista_mayores.append(num2)   \n",
    "    \n",
    "    return lista_mayores"
   ]
  },
  {
   "cell_type": "code",
   "execution_count": 29,
   "metadata": {},
   "outputs": [
    {
     "name": "stdout",
     "output_type": "stream",
     "text": [
      "7\n",
      "8\n",
      "9\n",
      "10\n",
      "11\n",
      "12\n"
     ]
    },
    {
     "data": {
      "text/plain": [
       "[7, 8, 9, 10, 11, 12]"
      ]
     },
     "execution_count": 29,
     "metadata": {},
     "output_type": "execute_result"
    }
   ],
   "source": [
    "listaa = [1,2,3,4,5,6]\n",
    "listab = [7,8,9,10,11,12]\n",
    "\n",
    "comparar(listaa, listab)"
   ]
  },
  {
   "cell_type": "code",
   "execution_count": 23,
   "metadata": {},
   "outputs": [
    {
     "name": "stdout",
     "output_type": "stream",
     "text": [
      "(1, 7)\n",
      "(2, 8)\n",
      "(3, 9)\n",
      "(4, 10)\n",
      "(5, 11)\n",
      "(6, 12)\n"
     ]
    }
   ],
   "source": [
    "#como funciona el zip\n",
    "listaa = [1,2,3,4,5,6]\n",
    "listab = [7,8,9,10,11,12]\n",
    "\n",
    "lista_ab = zip(listaa, listab)\n",
    "\n",
    "for tupla in lista_ab:\n",
    "    print(tupla)\n",
    "\n"
   ]
  },
  {
   "cell_type": "code",
   "execution_count": 24,
   "metadata": {},
   "outputs": [
    {
     "name": "stdout",
     "output_type": "stream",
     "text": [
      "1 7\n",
      "2 8\n",
      "3 9\n",
      "4 10\n",
      "5 11\n",
      "6 12\n"
     ]
    }
   ],
   "source": [
    "# como funciona iterar con dos parametros en una tupla\n",
    "\n",
    "listaa = [1,2,3,4,5,6]\n",
    "listab = [7,8,9,10,11,12]\n",
    "\n",
    "lista_ab = zip(listaa, listab)\n",
    "\n",
    "for num1, num2 in lista_ab:\n",
    "    print(num1, num2)"
   ]
  },
  {
   "attachments": {},
   "cell_type": "markdown",
   "metadata": {},
   "source": [
    "3.El objetivo de este ejercicio es convertir un string en un nuevo string en el que cada carácter del nuevo string es \"(\" si ese carácter aparece sólo una vez en el string original, o \")\" si ese carácter aparece más de una vez en el string. Nuestro código no tiene que ser case sensitive, es decir, si hay una letra en mayúscula y en minúscula cuenta como dos apariciones.\n",
    "\n",
    "Probad la función para los siguientes strings \n",
    "\n",
    "\"din\"      =>  \"(((\"\n",
    "\n",
    "\"recede\"   =>  \"()()()\"\n",
    "\n",
    "\"Success\"  =>  \")())())\"\n",
    "\n",
    "\"(( @\"     =>  \"))((\" \n",
    "\n",
    "\"Ocvl@GamFLAFkixkS\" => \"((()(()()))))(()(\""
   ]
  },
  {
   "cell_type": "code",
   "execution_count": null,
   "metadata": {},
   "outputs": [],
   "source": []
  },
  {
   "attachments": {},
   "cell_type": "markdown",
   "metadata": {},
   "source": [
    "BONUS 4. A Pete le gusta hacer pasteles. Tiene algunas recetas e ingredientes. Desgraciadamente, no se le dan bien las matemáticas. ¿Puedes ayudarle a averiguar cuántas tartas puede hacer teniendo en cuenta sus recetas?\n",
    "\n",
    "Escribid una función,  que tome la receta (diccionario) y los ingredientes disponibles (también un diccionario) y devuelva el número máximo de pasteles que Pete puede hornear (entero). Para simplificar, no hay unidades para las cantidades (por ejemplo, 1 libra de harina o 200 g de azúcar son simplemente 1 o 200). Los ingredientes que no están presentes en los diccionarios, pueden ser considerados como 0.\n",
    "\n",
    "```\n",
    "Probad con los siguientes diccionarios: \n",
    "\n",
    "RECETA {'flour': 500, 'sugar': 200, 'eggs': 1}, \n",
    "\n",
    "INGREDIENTES {'flour': 1200, 'sugar': 1200, 'eggs': 5, 'milk': 200}\n",
    "\n",
    "RESULTADO: 2 \n",
    "----------\n",
    "\n",
    "RECETA {'apples': 3, 'flour': 300, 'sugar': 150, 'milk': 100, 'oil': 100}\n",
    "\n",
    "INGREDIENTES {'sugar': 500, 'flour': 2000, 'milk': 2000}\n",
    "\n",
    "RESULTADO 0\n",
    "``` \n",
    "**Pista**: Nuestra función recibirá dos parámetros. "
   ]
  },
  {
   "cell_type": "code",
   "execution_count": null,
   "metadata": {},
   "outputs": [],
   "source": []
  },
  {
   "attachments": {},
   "cell_type": "markdown",
   "metadata": {},
   "source": [
    "BONUS 5. Escribid una función que va a ser una calculadora. La lista recibirá dos parámetros, una lista de números y un string con la operación que queremos hacer (puede ser \"*\", \"+\")\n",
    "\n",
    "``` \n",
    "Probad con los siguientes inputs\n",
    "\n",
    "lista1 = [11, 6, 98, 1, 2] , \"*\"\n",
    "\n",
    "RESULTADO 12936\n",
    "\n",
    "-----------------------------------\n",
    "lista2 = [23,34, 56, 11, 90] , \"+\"\n",
    "\n",
    "RESULTADO 214\n",
    "\n",
    "-----------------------------------\n",
    "lista3 = [23, 4,109 , 94, 77] , \"-\"\n",
    "\n",
    "RESULTADO 'Lo siento, necesito que me pases una operación valida.'\n",
    "```"
   ]
  },
  {
   "cell_type": "code",
   "execution_count": null,
   "metadata": {},
   "outputs": [],
   "source": []
  }
 ],
 "metadata": {
  "kernelspec": {
   "display_name": "base",
   "language": "python",
   "name": "python3"
  },
  "language_info": {
   "codemirror_mode": {
    "name": "ipython",
    "version": 3
   },
   "file_extension": ".py",
   "mimetype": "text/x-python",
   "name": "python",
   "nbconvert_exporter": "python",
   "pygments_lexer": "ipython3",
   "version": "3.9.7"
  },
  "orig_nbformat": 4
 },
 "nbformat": 4,
 "nbformat_minor": 2
}
